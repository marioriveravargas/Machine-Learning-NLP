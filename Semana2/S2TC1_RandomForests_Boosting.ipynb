{
 "cells": [
  {
   "cell_type": "markdown",
   "metadata": {},
   "source": [
    "![image info](https://raw.githubusercontent.com/albahnsen/MIAD_ML_and_NLP/main/images/banner_1.png)"
   ]
  },
  {
   "cell_type": "markdown",
   "metadata": {},
   "source": [
    "# Taller: Construcción e implementación de modelos Bagging, Random Forest y XGBoost\n",
    "\n",
    "En este taller podrán poner en práctica sus conocimientos sobre la construcción e implementación de modelos de Bagging, Random Forest y XGBoost. El taller está constituido por 8 puntos, en los cuales deberan seguir las intrucciones de cada numeral para su desarrollo."
   ]
  },
  {
   "cell_type": "markdown",
   "metadata": {},
   "source": [
    "## Datos predicción precio de automóviles\n",
    "\n",
    "En este taller se usará el conjunto de datos de Car Listings de Kaggle donde cada observación representa el precio de un automóvil teniendo en cuenta distintas variables como año, marca, modelo, entre otras. El objetivo es predecir si el precio del automóvil es alto o no. Para más detalles puede visitar el siguiente enlace: [datos](https://www.kaggle.com/jpayne/852k-used-car-listings)."
   ]
  },
  {
   "cell_type": "code",
   "execution_count": 1,
   "metadata": {},
   "outputs": [
    {
     "name": "stderr",
     "output_type": "stream",
     "text": [
      "<frozen importlib._bootstrap>:219: RuntimeWarning: scipy._lib.messagestream.MessageStream size changed, may indicate binary incompatibility. Expected 56 from C header, got 64 from PyObject\n"
     ]
    }
   ],
   "source": [
    "import warnings\n",
    "import joblib\n",
    "\n",
    "import pandas as pd\n",
    "import numpy as np\n",
    "\n",
    "import matplotlib.pyplot as plt\n",
    "from matplotlib import style\n",
    "import seaborn as sns\n",
    "\n",
    "from sklearn.model_selection import train_test_split, GridSearchCV\n",
    "from sklearn.ensemble import BaggingClassifier, RandomForestClassifier\n",
    "from sklearn.tree import DecisionTreeClassifier\n",
    "from sklearn.model_selection import cross_val_score\n",
    "from sklearn.metrics import accuracy_score\n",
    "from sklearn.pipeline import Pipeline\n",
    "from xgboost import XGBClassifier\n",
    "\n",
    "warnings.filterwarnings('ignore')"
   ]
  },
  {
   "cell_type": "code",
   "execution_count": 2,
   "metadata": {},
   "outputs": [
    {
     "data": {
      "text/html": [
       "<div>\n",
       "<style scoped>\n",
       "    .dataframe tbody tr th:only-of-type {\n",
       "        vertical-align: middle;\n",
       "    }\n",
       "\n",
       "    .dataframe tbody tr th {\n",
       "        vertical-align: top;\n",
       "    }\n",
       "\n",
       "    .dataframe thead th {\n",
       "        text-align: right;\n",
       "    }\n",
       "</style>\n",
       "<table border=\"1\" class=\"dataframe\">\n",
       "  <thead>\n",
       "    <tr style=\"text-align: right;\">\n",
       "      <th></th>\n",
       "      <th>Year</th>\n",
       "      <th>Mileage</th>\n",
       "      <th>M_Camry</th>\n",
       "      <th>M_Camry4dr</th>\n",
       "      <th>M_CamryBase</th>\n",
       "      <th>M_CamryL</th>\n",
       "      <th>M_CamryLE</th>\n",
       "      <th>M_CamrySE</th>\n",
       "      <th>M_CamryXLE</th>\n",
       "      <th>HighPrice</th>\n",
       "    </tr>\n",
       "  </thead>\n",
       "  <tbody>\n",
       "    <tr>\n",
       "      <th>7</th>\n",
       "      <td>2014</td>\n",
       "      <td>6480</td>\n",
       "      <td>0</td>\n",
       "      <td>0</td>\n",
       "      <td>0</td>\n",
       "      <td>1</td>\n",
       "      <td>0</td>\n",
       "      <td>0</td>\n",
       "      <td>0</td>\n",
       "      <td>1</td>\n",
       "    </tr>\n",
       "    <tr>\n",
       "      <th>11</th>\n",
       "      <td>2014</td>\n",
       "      <td>39972</td>\n",
       "      <td>0</td>\n",
       "      <td>0</td>\n",
       "      <td>0</td>\n",
       "      <td>0</td>\n",
       "      <td>1</td>\n",
       "      <td>0</td>\n",
       "      <td>0</td>\n",
       "      <td>0</td>\n",
       "    </tr>\n",
       "    <tr>\n",
       "      <th>167</th>\n",
       "      <td>2016</td>\n",
       "      <td>18989</td>\n",
       "      <td>0</td>\n",
       "      <td>0</td>\n",
       "      <td>0</td>\n",
       "      <td>0</td>\n",
       "      <td>0</td>\n",
       "      <td>1</td>\n",
       "      <td>0</td>\n",
       "      <td>1</td>\n",
       "    </tr>\n",
       "    <tr>\n",
       "      <th>225</th>\n",
       "      <td>2014</td>\n",
       "      <td>51330</td>\n",
       "      <td>0</td>\n",
       "      <td>0</td>\n",
       "      <td>0</td>\n",
       "      <td>1</td>\n",
       "      <td>0</td>\n",
       "      <td>0</td>\n",
       "      <td>0</td>\n",
       "      <td>0</td>\n",
       "    </tr>\n",
       "    <tr>\n",
       "      <th>270</th>\n",
       "      <td>2007</td>\n",
       "      <td>116065</td>\n",
       "      <td>0</td>\n",
       "      <td>1</td>\n",
       "      <td>0</td>\n",
       "      <td>0</td>\n",
       "      <td>0</td>\n",
       "      <td>0</td>\n",
       "      <td>0</td>\n",
       "      <td>0</td>\n",
       "    </tr>\n",
       "  </tbody>\n",
       "</table>\n",
       "</div>"
      ],
      "text/plain": [
       "     Year  Mileage  M_Camry  M_Camry4dr  M_CamryBase  M_CamryL  M_CamryLE  \\\n",
       "7    2014     6480        0           0            0         1          0   \n",
       "11   2014    39972        0           0            0         0          1   \n",
       "167  2016    18989        0           0            0         0          0   \n",
       "225  2014    51330        0           0            0         1          0   \n",
       "270  2007   116065        0           1            0         0          0   \n",
       "\n",
       "     M_CamrySE  M_CamryXLE  HighPrice  \n",
       "7            0           0          1  \n",
       "11           0           0          0  \n",
       "167          1           0          1  \n",
       "225          0           0          0  \n",
       "270          0           0          0  "
      ]
     },
     "execution_count": 2,
     "metadata": {},
     "output_type": "execute_result"
    }
   ],
   "source": [
    "# Lectura de la información de archivo .csv\n",
    "data = pd.read_csv('https://raw.githubusercontent.com/albahnsen/MIAD_ML_and_NLP/main/datasets/dataTrain_carListings.zip')\n",
    "\n",
    "# Preprocesamiento de datos para el taller\n",
    "data = data.loc[data['Model'].str.contains('Camry')].drop(['Make', 'State'], axis=1)\n",
    "data = data.join(pd.get_dummies(data['Model'], prefix='M'))\n",
    "data['HighPrice'] = (data['Price'] > data['Price'].mean()).astype(int)\n",
    "data = data.drop(['Model', 'Price'], axis=1)\n",
    "\n",
    "# Visualización dataset\n",
    "data.head()\n"
   ]
  },
  {
   "cell_type": "code",
   "execution_count": 3,
   "metadata": {},
   "outputs": [
    {
     "name": "stdout",
     "output_type": "stream",
     "text": [
      "<class 'pandas.core.frame.DataFrame'>\n",
      "Int64Index: 10495 entries, 7 to 399976\n",
      "Data columns (total 10 columns):\n",
      " #   Column       Non-Null Count  Dtype\n",
      "---  ------       --------------  -----\n",
      " 0   Year         10495 non-null  int64\n",
      " 1   Mileage      10495 non-null  int64\n",
      " 2   M_Camry      10495 non-null  uint8\n",
      " 3   M_Camry4dr   10495 non-null  uint8\n",
      " 4   M_CamryBase  10495 non-null  uint8\n",
      " 5   M_CamryL     10495 non-null  uint8\n",
      " 6   M_CamryLE    10495 non-null  uint8\n",
      " 7   M_CamrySE    10495 non-null  uint8\n",
      " 8   M_CamryXLE   10495 non-null  uint8\n",
      " 9   HighPrice    10495 non-null  int64\n",
      "dtypes: int64(3), uint8(7)\n",
      "memory usage: 657.8 KB\n"
     ]
    }
   ],
   "source": [
    "data.info()"
   ]
  },
  {
   "cell_type": "code",
   "execution_count": 4,
   "metadata": {},
   "outputs": [],
   "source": [
    "uint8_columns = ['M_Camry', 'M_Camry4dr', 'M_CamryBase', 'M_CamryL', 'M_CamryLE', 'M_CamrySE', 'M_CamryXLE']\n",
    "data[uint8_columns] = data[uint8_columns].astype(int)"
   ]
  },
  {
   "cell_type": "code",
   "execution_count": 5,
   "metadata": {},
   "outputs": [
    {
     "name": "stdout",
     "output_type": "stream",
     "text": [
      "<class 'pandas.core.frame.DataFrame'>\n",
      "Int64Index: 10495 entries, 7 to 399976\n",
      "Data columns (total 10 columns):\n",
      " #   Column       Non-Null Count  Dtype\n",
      "---  ------       --------------  -----\n",
      " 0   Year         10495 non-null  int64\n",
      " 1   Mileage      10495 non-null  int64\n",
      " 2   M_Camry      10495 non-null  int64\n",
      " 3   M_Camry4dr   10495 non-null  int64\n",
      " 4   M_CamryBase  10495 non-null  int64\n",
      " 5   M_CamryL     10495 non-null  int64\n",
      " 6   M_CamryLE    10495 non-null  int64\n",
      " 7   M_CamrySE    10495 non-null  int64\n",
      " 8   M_CamryXLE   10495 non-null  int64\n",
      " 9   HighPrice    10495 non-null  int64\n",
      "dtypes: int64(10)\n",
      "memory usage: 1.1 MB\n"
     ]
    }
   ],
   "source": [
    "data.info()"
   ]
  },
  {
   "cell_type": "code",
   "execution_count": 6,
   "metadata": {},
   "outputs": [],
   "source": [
    "# Separación de variables predictoras (X) y variable de interés (y)\n",
    "y = data['HighPrice']\n",
    "x = data.drop(['HighPrice'], axis=1)"
   ]
  },
  {
   "cell_type": "code",
   "execution_count": 7,
   "metadata": {},
   "outputs": [],
   "source": [
    "# Separación de datos en set de entrenamiento y test\n",
    "x_train, x_test, y_train, y_test = train_test_split(x, y, test_size=0.33, random_state=42)"
   ]
  },
  {
   "cell_type": "markdown",
   "metadata": {},
   "source": [
    "### Punto 1 - Árbol de decisión manual\n",
    "\n",
    "En la celda 1 creen un árbol de decisión **manualmente**  que considere los set de entrenamiento y test definidos anteriormente y presenten el acurracy del modelo en el set de test."
   ]
  },
  {
   "cell_type": "code",
   "execution_count": 29,
   "metadata": {},
   "outputs": [],
   "source": [
    "# Definición de la función que calcula el gini index\n",
    "def gini(y):\n",
    "    if y.shape[0] == 0:\n",
    "        return 0\n",
    "    else:\n",
    "        return 1 - (y.mean()**2 + (1 - y.mean())**2)\n",
    "\n",
    "# Definición de la función gini_imputiry para calular la ganancia de una variable predictora j dado el punto de corte k\n",
    "def gini_impurity(X_col, y, split):\n",
    "    \n",
    "    filter_l = X_col < split\n",
    "    y_l = y.loc[filter_l]\n",
    "    y_r = y.loc[~filter_l]\n",
    "    \n",
    "    n_l = y_l.shape[0]\n",
    "    n_r = y_r.shape[0]\n",
    "    \n",
    "    gini_y = gini(y)\n",
    "    gini_l = gini(y_l)\n",
    "    gini_r = gini(y_r)\n",
    "    \n",
    "    gini_impurity_ = gini_y - (n_l / (n_l + n_r) * gini_l + n_r / (n_l + n_r) * gini_r)\n",
    "    \n",
    "    return gini_impurity_\n",
    "\n",
    "# Definición de la función best_split para calcular cuál es la mejor variable y punto de cortepara hacer la bifurcación del árbol\n",
    "def best_split(X, y, num_pct=10):\n",
    "    \n",
    "    features = range(X.shape[1])\n",
    "    \n",
    "    best_split = [0, 0, 0]  # j, split, gain\n",
    "    \n",
    "    # Para todas las varibles \n",
    "    for j in features:\n",
    "        \n",
    "        splits = np.percentile(X.iloc[:, j], np.arange(0, 100, 100.0 / (num_pct+1)).tolist())\n",
    "        splits = np.unique(splits)[1:]\n",
    "        \n",
    "        # Para cada partición\n",
    "        for split in splits:\n",
    "            gain = gini_impurity(X.iloc[:, j], y, split)\n",
    "                        \n",
    "            if gain > best_split[2]:\n",
    "                best_split = [j, split, gain]\n",
    "    \n",
    "    return best_split\n",
    "\n",
    "\n",
    "# Definición de la función tree_grow para hacer un crecimiento recursivo del árbol\n",
    "def tree_grow(X, y, level=0, min_gain=0.001, max_depth=None, num_pct=10):\n",
    "\n",
    "\n",
    "    # Si solo es una observación\n",
    "    if X.shape[0] == 1:\n",
    "        tree = dict(y_pred=y.iloc[:1].values[0], y_prob=0.5, level=level, split=-1, n_samples=1, gain=0)\n",
    "        return tree\n",
    "    \n",
    "    # Calcular la mejor división\n",
    "    j, split, gain = best_split(X, y, num_pct)\n",
    "    \n",
    "    # Guardar el árbol y estimar la predicción\n",
    "    y_pred = int(y.mean() >= 0.5) \n",
    "    y_prob = (y.sum() + 1.0) / (y.shape[0] + 2.0)  # Corrección Laplace \n",
    "    \n",
    "    tree = dict(y_pred=y_pred, y_prob=y_prob, level=level, split=-1, n_samples=X.shape[0], gain=gain)\n",
    "    # Revisar el criterio de parada \n",
    "    if gain < min_gain:\n",
    "        return tree\n",
    "    if max_depth is not None:\n",
    "        if level >= max_depth:\n",
    "            return tree   \n",
    "    \n",
    "    # Continuar creando la partición\n",
    "    filter_l = X.iloc[:, j] < split\n",
    "    X_l, y_l = X.loc[filter_l], y.loc[filter_l]\n",
    "    X_r, y_r = X.loc[~filter_l], y.loc[~filter_l]\n",
    "    tree['split'] = [j, split]\n",
    "\n",
    "    # Siguiente iteración para cada partición\n",
    "\n",
    "    tree['sl'] = tree_grow(X_l, y_l, level + 1, min_gain=min_gain, max_depth=max_depth, num_pct=num_pct)\n",
    "    tree['sr'] = tree_grow(X_r, y_r, level + 1, min_gain=min_gain, max_depth=max_depth, num_pct=num_pct)\n",
    "    \n",
    "    return tree\n",
    "\n",
    "# Definición de la función tree_predict para hacer predicciones según las variables 'X' y el árbol 'tree'\n",
    "\n",
    "def predict(X, tree, proba=False):\n",
    "    \n",
    "    predicted = np.ones(X.shape[0])\n",
    "\n",
    "    # Revisar si es el nodo final\n",
    "    if tree['split'] == -1:\n",
    "        if not proba:\n",
    "            predicted = predicted * tree['y_pred']\n",
    "        else:\n",
    "            predicted = predicted * tree['y_prob']\n",
    "            \n",
    "    else:\n",
    "        \n",
    "        j, split = tree['split']\n",
    "        filter_l = (X.iloc[:, j] < split)\n",
    "        X_l = X.loc[filter_l]\n",
    "        X_r = X.loc[~filter_l]\n",
    "\n",
    "        if X_l.shape[0] == 0:  # Si el nodo izquierdo está vacio solo continua con el derecho \n",
    "            predicted[~filter_l] = predict( X_r, tree['sr'], proba)\n",
    "        elif X_r.shape[0] == 0:  #  Si el nodo derecho está vacio solo continua con el izquierdo\n",
    "            predicted[filter_l] = predict(X_l, tree['sl'], proba)\n",
    "        else:\n",
    "            predicted[filter_l] = predict(X_l, tree['sl'], proba)\n",
    "            predicted[~filter_l] = predict(X_r, tree['sr'], proba)\n",
    "\n",
    "    return predicted "
   ]
  },
  {
   "cell_type": "code",
   "execution_count": 31,
   "metadata": {},
   "outputs": [
    {
     "name": "stdout",
     "output_type": "stream",
     "text": [
      "Accuracy: 0.8608545034642032\n"
     ]
    }
   ],
   "source": [
    "tree = tree_grow(X=x_train, y=y_train, level=0, min_gain=0.001, max_depth=20, num_pct=10)\n",
    "# Predecimos los valores y para los datos usados en el entrenamiento\n",
    "y_pred = predict(x_test, tree)\n",
    "print(\"Accuracy:\", accuracy_score(y_test, y_pred))"
   ]
  },
  {
   "cell_type": "markdown",
   "metadata": {},
   "source": [
    "#### Calibración Max_depth"
   ]
  },
  {
   "cell_type": "code",
   "execution_count": 41,
   "metadata": {},
   "outputs": [],
   "source": [
    "max_depth = range(1, 50, 10)\n",
    "accuracy_scores_tree = []\n",
    "for feature in max_depth:\n",
    "    tree = tree_grow(X=x_train, y=y_train, level=0, min_gain=0.001, max_depth=feature, num_pct=10)\n",
    "    y_pred = predict(x_test, tree)\n",
    "    accuracy_scores_tree.append(accuracy_score(y_test, y_pred))"
   ]
  },
  {
   "cell_type": "code",
   "execution_count": 42,
   "metadata": {},
   "outputs": [
    {
     "data": {
      "text/plain": [
       "Text(0, 0.5, 'Accuracy')"
      ]
     },
     "execution_count": 42,
     "metadata": {},
     "output_type": "execute_result"
    },
    {
     "data": {
      "image/png": "[encoded data removed]",
      "text/plain": [
       "<Figure size 600x400 with 1 Axes>"
      ]
     },
     "metadata": {},
     "output_type": "display_data"
    }
   ],
   "source": [
    "# Gráfica del desempeño del modelo vs la cantidad de n_estimators\n",
    "plt.plot(max_depth, accuracy_scores_tree)\n",
    "plt.xlabel('max_depth')\n",
    "plt.ylabel('Accuracy')"
   ]
  },
  {
   "cell_type": "code",
   "execution_count": 53,
   "metadata": {},
   "outputs": [],
   "source": [
    "accu_TreeManual = np.max(accuracy_scores_tree)"
   ]
  },
  {
   "cell_type": "markdown",
   "metadata": {},
   "source": [
    "### Punto 2 - Bagging manual\n",
    "\n",
    "En la celda 2 creen un modelo bagging **manualmente** con 10 árboles de clasificación y comenten sobre el desempeño del modelo."
   ]
  },
  {
   "cell_type": "code",
   "execution_count": 35,
   "metadata": {},
   "outputs": [],
   "source": [
    "def baggingManual(xtrain:pd.DataFrame, ytrain:pd.DataFrame=y_train, xtest:pd.DataFrame=x_test ,num_arboles:int=10):\n",
    "    #semilla\n",
    "    np.random.seed(123)\n",
    "    # Creación de 10 muestras de bootstrap \n",
    "    n_samples = xtrain.shape[0]\n",
    "    samples = [np.random.choice(a=n_samples, size=n_samples, replace=True) for _ in range(1, num_arboles + 1 )]\n",
    "    \n",
    "    # DataFrame para guardar las predicciones de cada árbol\n",
    "    y_pred = pd.DataFrame(index=xtest.index, columns=[list(range(num_arboles))])\n",
    "\n",
    "    # Entrenamiento de un árbol sobre cada muestra boostrap y predicción sobre los datos de test\n",
    "    for i, sample in enumerate(samples):\n",
    "        xtrain.reset_index(drop=True, inplace=True)\n",
    "        ytrain.reset_index(drop=True, inplace=True)\n",
    "        x_train = xtrain.iloc[sample, :]\n",
    "        y_train = ytrain.iloc[sample]\n",
    "        tree = tree_grow(X=x_train, y=y_train, level=0, min_gain=0.001, max_depth=feature, num_pct=10)\n",
    "        y_pred.iloc[:,i] = predict(xtest, tree)\n",
    "\n",
    "    return y_pred   \n"
   ]
  },
  {
   "cell_type": "code",
   "execution_count": 36,
   "metadata": {},
   "outputs": [],
   "source": [
    "accuracy_scores=[]\n",
    "y_pred = baggingManual(x_train,y_train,x_test,num_arboles=15)\n",
    "for pred in range(15):\n",
    "    accuracy_scores.append(accuracy_score(y_test,y_pred.iloc[:,pred]))"
   ]
  },
  {
   "cell_type": "code",
   "execution_count": 37,
   "metadata": {},
   "outputs": [
    {
     "data": {
      "text/plain": [
       "Text(0, 0.5, 'Accuracy')"
      ]
     },
     "execution_count": 37,
     "metadata": {},
     "output_type": "execute_result"
    },
    {
     "data": {
      "image/png": "[encoded data removed]",
      "text/plain": [
       "<Figure size 600x400 with 1 Axes>"
      ]
     },
     "metadata": {},
     "output_type": "display_data"
    }
   ],
   "source": [
    "# Gráfica del desempeño del modelo vs la cantidad de n_estimators\n",
    "plt.plot(range(0,15), accuracy_scores)\n",
    "plt.xlabel('num_arboles')\n",
    "plt.ylabel('Accuracy')"
   ]
  },
  {
   "cell_type": "code",
   "execution_count": 56,
   "metadata": {},
   "outputs": [
    {
     "name": "stdout",
     "output_type": "stream",
     "text": [
      "Accuracy Bagging Manual: 0.858256351039261\n"
     ]
    }
   ],
   "source": [
    "accu_bagginManual = np.max(accuracy_scores)\n",
    "print(\"Accuracy Bagging Manual:\",accu_bagginManual)"
   ]
  },
  {
   "cell_type": "markdown",
   "metadata": {},
   "source": [
    "### Punto 3 - Bagging con librería\n",
    "\n",
    "En la celda 3, con la librería sklearn, entrenen un modelo bagging con 10 árboles de clasificación y el parámetro `max_features` igual a `log(n_features)`. Presenten el acurracy del modelo en el set de test y comenten sus resultados."
   ]
  },
  {
   "cell_type": "code",
   "execution_count": 10,
   "metadata": {},
   "outputs": [],
   "source": [
    "# Celda 3\n",
    "# https://stackoverflow.com/questions/42072721/valueerror-max-features-must-be-in-0-n-features-in-scikit-when-using-rand\n",
    "max_features = np.log(x_train.shape[1])/x_train.shape[1]\n",
    "clf_bagging = BaggingClassifier(base_estimator=DecisionTreeClassifier(criterion='gini'), n_estimators= 10, max_features=max_features, random_state=12261922)\n",
    "clf_bagging.fit(x_train, y_train)\n",
    "y_bagging = clf_bagging.predict(x_test)\n",
    "accuracy_bagging = accuracy_score(y_test, y_bagging)"
   ]
  },
  {
   "cell_type": "code",
   "execution_count": 59,
   "metadata": {},
   "outputs": [
    {
     "name": "stdout",
     "output_type": "stream",
     "text": [
      "Accuracy Bagging Con Libreria: 0.8576789838337182\n"
     ]
    }
   ],
   "source": [
    "print(\"Accuracy Bagging Con Libreria:\",accuracy_bagging)"
   ]
  },
  {
   "cell_type": "markdown",
   "metadata": {},
   "source": [
    "Teniendo en cuenta el desempeño general del Árbol de Decisión Manual, Con un “Accuracy” pobre de tan solo 58%, el desempeño del Bagging usando librería de Sklearn presenta un salto cualitativo de desempeño mayoe que 85% que es una métrica bastante aceptable, aunque mejorable sin duda a través de modelos más robustos."
   ]
  },
  {
   "cell_type": "markdown",
   "metadata": {},
   "source": [
    "### Punto 4 - Random forest con librería\n",
    "\n",
    "En la celda 4, usando la librería sklearn entrenen un modelo de Randon Forest para clasificación y presenten el acurracy del modelo en el set de test y comenten sus resultados."
   ]
  },
  {
   "cell_type": "code",
   "execution_count": 12,
   "metadata": {},
   "outputs": [],
   "source": [
    "# Celda 4\n",
    "clf_forest = RandomForestClassifier(random_state=12261922)\n",
    "clf_forest.fit(x_train, y_train)\n",
    "y_forest = clf_forest.predict(x_test)\n",
    "accuracy_forest = accuracy_score(y_test, y_forest)"
   ]
  },
  {
   "cell_type": "code",
   "execution_count": 60,
   "metadata": {},
   "outputs": [
    {
     "name": "stdout",
     "output_type": "stream",
     "text": [
      "Accuracy Random Forect Con Libreri: 0.8435334872979214\n"
     ]
    }
   ],
   "source": [
    "print(\"Accuracy Random Forest Con Librería:\",accuracy_forest)"
   ]
  },
  {
   "cell_type": "markdown",
   "metadata": {},
   "source": [
    "En el caso de Random Forest vs.Bagging.  el ajuste adicional del primero a partir del remuestreo aleatorio no entrega un desempeño cuantitativamente superior. Ni siquiera igual. Pese a ello con algo de calibración podría mejorar su resultado."
   ]
  },
  {
   "cell_type": "markdown",
   "metadata": {},
   "source": [
    "### Punto 5 - Calibración de parámetros Random forest\n",
    "\n",
    "En la celda 5, calibren los parámetros max_depth, max_features y n_estimators del modelo de Randon Forest para clasificación. Presenten el acurracy del modelo en el set de test, comenten sus resultados y análicen cómo cada parámetro afecta el modelo."
   ]
  },
  {
   "cell_type": "code",
   "execution_count": 14,
   "metadata": {},
   "outputs": [],
   "source": [
    "# Celda 5\n",
    "# pipe = Pipeline([('model', RandomForestClassifier())])\n",
    "# param_grid = {'model__max_depth': [*range(1, 16, 1)],\n",
    "#               'model__max_features': [*range(1, x_train.shape[1]+1, 1)],\n",
    "#               'model__n_estimators': [*range(100, 1001, 60)]}\n",
    "# search_forest = GridSearchCV(pipe, param_grid, scoring='accuracy', cv=10)\n",
    "# _ = search_forest.fit(x_train, y_train)\n",
    "# joblib.dump(search_forest, 'search_forest.joblib')"
   ]
  },
  {
   "cell_type": "code",
   "execution_count": 15,
   "metadata": {},
   "outputs": [],
   "source": [
    "search_forest = joblib.load('search_forest.joblib') "
   ]
  },
  {
   "cell_type": "code",
   "execution_count": 16,
   "metadata": {},
   "outputs": [
    {
     "name": "stdout",
     "output_type": "stream",
     "text": [
      "Params\n",
      " max_depth 7\n",
      " max_features 2\n",
      " n_estimators 220\n",
      "\n",
      "test accuracy 0.8852\n"
     ]
    }
   ],
   "source": [
    "values = (search_forest.best_params_['model__max_depth'], search_forest.best_params_['model__max_features'], search_forest.best_params_['model__n_estimators'], search_forest.best_score_)\n",
    "print('Params\\n max_depth %d\\n max_features %d\\n n_estimators %d\\n\\ntest accuracy %.4f' % values)"
   ]
  },
  {
   "cell_type": "code",
   "execution_count": 17,
   "metadata": {},
   "outputs": [
    {
     "data": {
      "text/html": [
       "<div>\n",
       "<style scoped>\n",
       "    .dataframe tbody tr th:only-of-type {\n",
       "        vertical-align: middle;\n",
       "    }\n",
       "\n",
       "    .dataframe tbody tr th {\n",
       "        vertical-align: top;\n",
       "    }\n",
       "\n",
       "    .dataframe thead th {\n",
       "        text-align: right;\n",
       "    }\n",
       "</style>\n",
       "<table border=\"1\" class=\"dataframe\">\n",
       "  <thead>\n",
       "    <tr style=\"text-align: right;\">\n",
       "      <th></th>\n",
       "      <th>model__max_depth</th>\n",
       "      <th>model__max_features</th>\n",
       "      <th>model__n_estimators</th>\n",
       "      <th>accuracy</th>\n",
       "    </tr>\n",
       "  </thead>\n",
       "  <tbody>\n",
       "    <tr>\n",
       "      <th>0</th>\n",
       "      <td>1</td>\n",
       "      <td>1</td>\n",
       "      <td>100</td>\n",
       "      <td>0.810273</td>\n",
       "    </tr>\n",
       "    <tr>\n",
       "      <th>1</th>\n",
       "      <td>1</td>\n",
       "      <td>1</td>\n",
       "      <td>160</td>\n",
       "      <td>0.819803</td>\n",
       "    </tr>\n",
       "    <tr>\n",
       "      <th>2</th>\n",
       "      <td>1</td>\n",
       "      <td>1</td>\n",
       "      <td>220</td>\n",
       "      <td>0.818096</td>\n",
       "    </tr>\n",
       "    <tr>\n",
       "      <th>3</th>\n",
       "      <td>1</td>\n",
       "      <td>1</td>\n",
       "      <td>280</td>\n",
       "      <td>0.828334</td>\n",
       "    </tr>\n",
       "    <tr>\n",
       "      <th>4</th>\n",
       "      <td>1</td>\n",
       "      <td>1</td>\n",
       "      <td>340</td>\n",
       "      <td>0.833170</td>\n",
       "    </tr>\n",
       "  </tbody>\n",
       "</table>\n",
       "</div>"
      ],
      "text/plain": [
       "   model__max_depth  model__max_features  model__n_estimators  accuracy\n",
       "0                 1                    1                  100  0.810273\n",
       "1                 1                    1                  160  0.819803\n",
       "2                 1                    1                  220  0.818096\n",
       "3                 1                    1                  280  0.828334\n",
       "4                 1                    1                  340  0.833170"
      ]
     },
     "execution_count": 17,
     "metadata": {},
     "output_type": "execute_result"
    }
   ],
   "source": [
    "params = pd.DataFrame(search_forest.cv_results_['params'])\n",
    "params['accuracy'] = search_forest.cv_results_['mean_test_score']\n",
    "params.head()"
   ]
  },
  {
   "cell_type": "code",
   "execution_count": 18,
   "metadata": {},
   "outputs": [],
   "source": [
    "y_forest_search = search_forest.predict(x_test)\n",
    "accuracy_forest_search = accuracy_score(y_test, y_forest_search)"
   ]
  },
  {
   "cell_type": "code",
   "execution_count": 61,
   "metadata": {},
   "outputs": [
    {
     "name": "stdout",
     "output_type": "stream",
     "text": [
      "Accuracy Random Forest Optimizado: 0.8862586605080831\n"
     ]
    }
   ],
   "source": [
    "print(\"Accuracy Random Forest Optimizado con Librería:\",accuracy_forest_search)\n"
   ]
  },
  {
   "cell_type": "markdown",
   "metadata": {},
   "source": [
    "Ahora bien, una vez ejecutado el proceso de calibración usando como parámetros 220 estimadores y una profundidad máxima de 7; a pesar de tomar un tiempo considerable de procesamiento (casi 3 horas y 45 minutos). el incremento de probabilidad es sustancial alcanzando el 88,63%."
   ]
  },
  {
   "cell_type": "markdown",
   "metadata": {},
   "source": [
    "### Punto 6 - XGBoost con librería\n",
    "\n",
    "En la celda 6 implementen un modelo XGBoost de clasificación con la librería sklearn, presenten el acurracy del modelo en el set de test y comenten sus resultados."
   ]
  },
  {
   "cell_type": "code",
   "execution_count": 20,
   "metadata": {},
   "outputs": [],
   "source": [
    "# Celda 6\n",
    "clf_xgboost = XGBClassifier(random_state=12261922)\n",
    "clf_xgboost.fit(x_train, y_train)\n",
    "y_xgboost = clf_xgboost.predict(x_test)\n",
    "accuracy_xgboost = accuracy_score(y_test, y_xgboost)"
   ]
  },
  {
   "cell_type": "code",
   "execution_count": 62,
   "metadata": {},
   "outputs": [
    {
     "name": "stdout",
     "output_type": "stream",
     "text": [
      "Accuracy Xgboost con Librería: 0.8856812933025404\n"
     ]
    }
   ],
   "source": [
    "print(\"Accuracy Xgboost con Librería:\",accuracy_xgboost)"
   ]
  },
  {
   "cell_type": "markdown",
   "metadata": {},
   "source": [
    "En el caso del Xtreme Gradient Boosting usando la librería, sin calibración, el procesamiento tomó un par de minutos, mejorando cualitativamente el desempeño del modelo en materia de tiempo de procesamiento. No obstante cuantitativamente su desempeño no incrementó su nivel de predicción en clasificación de resultados. "
   ]
  },
  {
   "cell_type": "markdown",
   "metadata": {},
   "source": [
    "### Punto 7 - Calibración de parámetros XGBoost\n",
    "\n",
    "En la celda 7 calibren los parámetros learning rate, gamma y colsample_bytree del modelo XGBoost para clasificación. Presenten el acurracy del modelo en el set de test, comenten sus resultados y análicen cómo cada parámetro afecta el modelo.\n",
    "\n",
    "manteniendo el mismo nivel de 88,5% de probabilidad del modelo Bagging con librería y calibrado."
   ]
  },
  {
   "cell_type": "code",
   "execution_count": 22,
   "metadata": {},
   "outputs": [],
   "source": [
    "# Celda 7\n",
    "# pipe = Pipeline([('model', XGBClassifier())])\n",
    "# param_grid = {'model__learning_rate': np.linspace(0.001, 1, 20),\n",
    "#               'model__gamma': np.linspace(0.001 , 1, 20),\n",
    "#               'model__colsample_bytree': np.linspace(0.001, 1, 20)}\n",
    "# search_xgboost = GridSearchCV(pipe, param_grid, scoring='accuracy', cv=10)\n",
    "# _ = search_xgboost.fit(x_train, y_train)\n",
    "# joblib.dump(search_xgboost, 'search_xgboost.joblib')"
   ]
  },
  {
   "cell_type": "code",
   "execution_count": 23,
   "metadata": {},
   "outputs": [],
   "source": [
    "search_xgboost = joblib.load('search_xgboost.joblib') "
   ]
  },
  {
   "cell_type": "code",
   "execution_count": 24,
   "metadata": {},
   "outputs": [
    {
     "name": "stdout",
     "output_type": "stream",
     "text": [
      "Params\n",
      " learning_rate 0.1062\n",
      " gamma 0.4216\n",
      " colsample_bytree 0.2639\n",
      "\n",
      "test accuracy 0.8824\n"
     ]
    }
   ],
   "source": [
    "values = (search_xgboost.best_params_['model__learning_rate'], search_xgboost.best_params_['model__gamma'], search_xgboost.best_params_['model__colsample_bytree'], search_xgboost.best_score_)\n",
    "print('Params\\n learning_rate %.4f\\n gamma %.4f\\n colsample_bytree %.4f\\n\\ntest accuracy %.4f' % values)"
   ]
  },
  {
   "cell_type": "code",
   "execution_count": 25,
   "metadata": {},
   "outputs": [
    {
     "data": {
      "text/html": [
       "<div>\n",
       "<style scoped>\n",
       "    .dataframe tbody tr th:only-of-type {\n",
       "        vertical-align: middle;\n",
       "    }\n",
       "\n",
       "    .dataframe tbody tr th {\n",
       "        vertical-align: top;\n",
       "    }\n",
       "\n",
       "    .dataframe thead th {\n",
       "        text-align: right;\n",
       "    }\n",
       "</style>\n",
       "<table border=\"1\" class=\"dataframe\">\n",
       "  <thead>\n",
       "    <tr style=\"text-align: right;\">\n",
       "      <th></th>\n",
       "      <th>model__colsample_bytree</th>\n",
       "      <th>model__gamma</th>\n",
       "      <th>model__learning_rate</th>\n",
       "      <th>accuracy</th>\n",
       "    </tr>\n",
       "  </thead>\n",
       "  <tbody>\n",
       "    <tr>\n",
       "      <th>0</th>\n",
       "      <td>0.001</td>\n",
       "      <td>0.001</td>\n",
       "      <td>0.001000</td>\n",
       "      <td>0.818664</td>\n",
       "    </tr>\n",
       "    <tr>\n",
       "      <th>1</th>\n",
       "      <td>0.001</td>\n",
       "      <td>0.001</td>\n",
       "      <td>0.053579</td>\n",
       "      <td>0.861473</td>\n",
       "    </tr>\n",
       "    <tr>\n",
       "      <th>2</th>\n",
       "      <td>0.001</td>\n",
       "      <td>0.001</td>\n",
       "      <td>0.106158</td>\n",
       "      <td>0.871572</td>\n",
       "    </tr>\n",
       "    <tr>\n",
       "      <th>3</th>\n",
       "      <td>0.001</td>\n",
       "      <td>0.001</td>\n",
       "      <td>0.158737</td>\n",
       "      <td>0.875696</td>\n",
       "    </tr>\n",
       "    <tr>\n",
       "      <th>4</th>\n",
       "      <td>0.001</td>\n",
       "      <td>0.001</td>\n",
       "      <td>0.211316</td>\n",
       "      <td>0.877973</td>\n",
       "    </tr>\n",
       "  </tbody>\n",
       "</table>\n",
       "</div>"
      ],
      "text/plain": [
       "   model__colsample_bytree  model__gamma  model__learning_rate  accuracy\n",
       "0                    0.001         0.001              0.001000  0.818664\n",
       "1                    0.001         0.001              0.053579  0.861473\n",
       "2                    0.001         0.001              0.106158  0.871572\n",
       "3                    0.001         0.001              0.158737  0.875696\n",
       "4                    0.001         0.001              0.211316  0.877973"
      ]
     },
     "execution_count": 25,
     "metadata": {},
     "output_type": "execute_result"
    }
   ],
   "source": [
    "params = pd.DataFrame(search_xgboost.cv_results_['params'])\n",
    "params['accuracy'] = search_xgboost.cv_results_['mean_test_score']\n",
    "params.head()"
   ]
  },
  {
   "cell_type": "code",
   "execution_count": 26,
   "metadata": {},
   "outputs": [],
   "source": [
    "y_xgboost_search = search_forest.predict(x_test)\n",
    "accuracy_xgboost_search = accuracy_score(y_test, y_xgboost_search)"
   ]
  },
  {
   "cell_type": "code",
   "execution_count": 63,
   "metadata": {},
   "outputs": [
    {
     "name": "stdout",
     "output_type": "stream",
     "text": [
      "Accuracy Xgboost Optimizado con Librería: 0.8862586605080831\n"
     ]
    }
   ],
   "source": [
    "print(\"Accuracy Xgboost Optimizado con Librería:\",accuracy_xgboost_search)"
   ]
  },
  {
   "cell_type": "markdown",
   "metadata": {},
   "source": [
    "### Punto 8 - Comparación y análisis de resultados\n",
    "En la celda 8 comparen los resultados obtenidos de los diferentes modelos (random forest y XGBoost) y comenten las ventajas del mejor modelo y las desventajas del modelo con el menor desempeño."
   ]
  },
  {
   "cell_type": "code",
   "execution_count": 54,
   "metadata": {},
   "outputs": [
    {
     "data": {
      "image/png": "[encoded data removed]",
      "text/plain": [
       "<Figure size 600x384 with 1 Axes>"
      ]
     },
     "metadata": {},
     "output_type": "display_data"
    }
   ],
   "source": [
    "# Celda 8\n",
    "accuracy = pd.DataFrame({\n",
    "                        'model': ['bagging raw', 'forest raw', 'forest opt', 'xgboost raw', 'xgboost opt', 'arbol_decision_manual','bagging_manual'],\n",
    "                        'accuracy': [accuracy_bagging, accuracy_forest, accuracy_forest_search, accuracy_xgboost, accuracy_xgboost_search,accu_TreeManual, accu_bagginManual]\n",
    "                     })\n",
    "accuracy = accuracy.sort_values('accuracy', ascending=False)\n",
    "plt.rcParams['image.cmap'] = \"bwr\"\n",
    "plt.rcParams['figure.dpi'] = \"100\"\n",
    "plt.rcParams['savefig.bbox'] = \"tight\"\n",
    "style.use('ggplot') or plt.style.use('ggplot')\n",
    "fig, ax = plt.subplots(figsize=(6, 3.84))\n",
    "ax.hlines(accuracy.model, xmin=0, xmax=accuracy.accuracy)\n",
    "ax.plot(accuracy.accuracy, accuracy.model, \"o\", color='black')\n",
    "ax.tick_params(axis='y', which='major', labelsize=12)\n",
    "ax.set_title('Comparación de error de test modelos'),\n",
    "ax.set_xlabel('Test accuracy')\n",
    "plt.show()"
   ]
  },
  {
   "cell_type": "markdown",
   "metadata": {},
   "source": [
    "Como conclusión general del ejercicio es posible observar que la optimización genera no sólo una mejora sustancial en los resultados cuantitativos de predicción, sino que también mejoran los tiempos de procesamiento. No obstante, en este caso en particular la optimización de modelos xgboost tuvo como resultado cuantitativo un incremento poco sustancial de su accuracy, \n",
    "Por lo cual es posible decir que, el costo de procesamiento (al menos de los hiperparámetros del modelo tras casi 12 horas de procesamiento) no son significativos. Y en el caso del mismo random forest el incremento es de tan solo 3%. \n"
   ]
  },
  {
   "cell_type": "markdown",
   "metadata": {},
   "source": [
    "Situaciones como las anteriores nos motivan a observar otras realidades adicionales como la que exponemos a continuación.\n",
    "\n",
    "En nuestra opinión, si la diferencia de desempeño no es significativo evitaría a todo costo usar  la librería `xgboost` esto se debe al estado de salud de tener una librería que no esté soportada en https://numfocus.org/sponsored-projects o otra fuente importante de financiamiento esto deriva a hechos como las métricas de actividad de desarrollo al repositorio q es casi nulo, y a su nulo soporte. Otro punto fundamental a tener en cuenta es que esta librería se basa en sklearn por ende puede romperse con actualizaciones futuras. Sin contar problemas que puede suceder con librerías de este índole como casos recientes en npm de `colors`, `faker` entre otras.\n",
    "\n",
    "No obstante es importante resaltar que realmente la conclusión del ejercicio es que los árboles de decisión en cualquiera de sus formas son un método robusto tanto para clasificación como para predicción y que las pequeñas o grandes mejoras que puedan entregar la optimización de los modelos serán una decisión importante a analizar en cada ejercicio futuro."
   ]
  }
 ],
 "metadata": {
  "kernelspec": {
   "display_name": "Python 3 (ipykernel)",
   "language": "python",
   "name": "python3"
  },
  "language_info": {
   "codemirror_mode": {
    "name": "ipython",
    "version": 3
   },
   "file_extension": ".py",
   "mimetype": "text/x-python",
   "name": "python",
   "nbconvert_exporter": "python",
   "pygments_lexer": "ipython3",
   "version": "3.8.12"
  }
 },
 "nbformat": 4,
 "nbformat_minor": 4
}
